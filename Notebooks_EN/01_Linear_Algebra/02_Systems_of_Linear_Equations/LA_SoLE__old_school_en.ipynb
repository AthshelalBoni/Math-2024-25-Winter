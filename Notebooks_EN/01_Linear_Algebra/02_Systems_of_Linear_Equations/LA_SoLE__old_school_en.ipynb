{
  "cells": [
    {
      "cell_type": "markdown",
      "metadata": {
        "id": "view-in-github",
        "colab_type": "text"
      },
      "source": [
        "<a href=\"https://colab.research.google.com/github/AthshelalBoni/Math-2024-25-Winter/blob/main/Notebooks_EN/01_Linear_Algebra/02_Systems_of_Linear_Equations/LA_SoLE__old_school_en.ipynb\" target=\"_parent\"><img src=\"https://colab.research.google.com/assets/colab-badge.svg\" alt=\"Open In Colab\"/></a>"
      ]
    },
    {
      "cell_type": "markdown",
      "metadata": {
        "id": "CwXJLY39tnos"
      },
      "source": [
        "# School Method for Solving Systems of Linear Equations"
      ]
    },
    {
      "cell_type": "code",
      "execution_count": null,
      "metadata": {
        "id": "I30d21SUtnow"
      },
      "outputs": [],
      "source": [
        "import sympy as sp\n",
        "from sympy import symbols, Eq, expand, solve\n",
        "\n",
        "class EnhancedEq(Eq):\n",
        "    def __add__(self, other):\n",
        "        return EnhancedEq(self.lhs + other.lhs, self.rhs + other.rhs)\n",
        "\n",
        "    def __sub__(self, other):\n",
        "        return EnhancedEq(self.lhs - other.lhs, self.rhs - other.rhs)\n",
        "\n",
        "    def __mul__(self, scalar):\n",
        "        return EnhancedEq(scalar * self.lhs, scalar * self.rhs)\n",
        "\n",
        "    def __rmul__(self, scalar):\n",
        "        return self.__mul__(scalar)\n",
        "\n",
        "    def simplify(self):\n",
        "        return EnhancedEq(expand(self.lhs), expand(self.rhs))\n",
        "\n",
        "    def substitute(self, *args, **kwargs):\n",
        "        return EnhancedEq(self.lhs.subs(*args, **kwargs), self.rhs.subs(*args, **kwargs))\n",
        "\n",
        "    def solve_for(self, symbol):\n",
        "        return solve(self, symbol)\n",
        "\n",
        "# Example usage:\n",
        "x, y = symbols('x y')\n",
        "\n",
        "# Define equations\n",
        "eq1 = EnhancedEq(2*x + y, 5)\n",
        "eq2 = EnhancedEq(x - y, 1)"
      ]
    },
    {
      "cell_type": "code",
      "execution_count": 2,
      "metadata": {
        "id": "6fdZFWGOtnoy",
        "outputId": "730013e8-5e06-462b-f496-f685dd37ae07",
        "colab": {
          "base_uri": "https://localhost:8080/",
          "height": 176
        }
      },
      "outputs": [
        {
          "output_type": "stream",
          "name": "stdout",
          "text": [
            "First equation:\n"
          ]
        },
        {
          "output_type": "error",
          "ename": "NameError",
          "evalue": "name 'eq1' is not defined",
          "traceback": [
            "\u001b[0;31m---------------------------------------------------------------------------\u001b[0m",
            "\u001b[0;31mNameError\u001b[0m                                 Traceback (most recent call last)",
            "\u001b[0;32m<ipython-input-2-8bf0fca63259>\u001b[0m in \u001b[0;36m<cell line: 2>\u001b[0;34m()\u001b[0m\n\u001b[1;32m      1\u001b[0m \u001b[0mprint\u001b[0m\u001b[0;34m(\u001b[0m\u001b[0;34m\"First equation:\"\u001b[0m\u001b[0;34m)\u001b[0m\u001b[0;34m\u001b[0m\u001b[0;34m\u001b[0m\u001b[0m\n\u001b[0;32m----> 2\u001b[0;31m \u001b[0meq1\u001b[0m\u001b[0;34m\u001b[0m\u001b[0;34m\u001b[0m\u001b[0m\n\u001b[0m",
            "\u001b[0;31mNameError\u001b[0m: name 'eq1' is not defined"
          ]
        }
      ],
      "source": [
        "print(\"First equation:\")\n",
        "eq1"
      ]
    },
    {
      "cell_type": "code",
      "execution_count": null,
      "metadata": {
        "id": "YSnWcmDltno1",
        "outputId": "6d1f8988-900a-452e-96a9-d5dd66d4d7d7"
      },
      "outputs": [
        {
          "name": "stdout",
          "output_type": "stream",
          "text": [
            "Second equation:\n"
          ]
        },
        {
          "data": {
            "text/latex": [
              "$\\displaystyle x - y = 1$"
            ],
            "text/plain": [
              "Eq(x - y, 1)"
            ]
          },
          "execution_count": 3,
          "metadata": {},
          "output_type": "execute_result"
        }
      ],
      "source": [
        "print(\"Second equation:\")\n",
        "eq2"
      ]
    },
    {
      "cell_type": "code",
      "execution_count": null,
      "metadata": {
        "id": "OFsXil8ztno2",
        "outputId": "b29df7e1-de89-48b5-ac9a-2f459b574592"
      },
      "outputs": [
        {
          "data": {
            "text/latex": [
              "$\\displaystyle 3 x = 6$"
            ],
            "text/plain": [
              "Eq(3*x, 6)"
            ]
          },
          "execution_count": 4,
          "metadata": {},
          "output_type": "execute_result"
        }
      ],
      "source": [
        "# Add the equations\n",
        "eq3 = eq1 + eq2\n",
        "eq3"
      ]
    },
    {
      "cell_type": "code",
      "execution_count": null,
      "metadata": {
        "id": "9tU0ODVGtno2",
        "outputId": "c6e0966c-8616-46c8-cb96-1bd204651d86"
      },
      "outputs": [
        {
          "data": {
            "text/latex": [
              "$\\displaystyle 2$"
            ],
            "text/plain": [
              "2"
            ]
          },
          "execution_count": 5,
          "metadata": {},
          "output_type": "execute_result"
        }
      ],
      "source": [
        "# We have an equation with one unknown, so we can solve it\n",
        "sol_x = eq3.solve_for(x)[0]\n",
        "sol_x"
      ]
    },
    {
      "cell_type": "code",
      "execution_count": null,
      "metadata": {
        "id": "Q8mUDJAFtno3",
        "outputId": "264114d3-e596-4386-dc71-1cb79ce361cd"
      },
      "outputs": [
        {
          "data": {
            "text/latex": [
              "$\\displaystyle 2 - y = 1$"
            ],
            "text/plain": [
              "Eq(2 - y, 1)"
            ]
          },
          "execution_count": 6,
          "metadata": {},
          "output_type": "execute_result"
        }
      ],
      "source": [
        "# Substitute the solution into equation 2\n",
        "eq2 = eq2.substitute(x, sol_x)\n",
        "eq2"
      ]
    },
    {
      "cell_type": "code",
      "execution_count": null,
      "metadata": {
        "id": "hdu-QDJ8tno3",
        "outputId": "30cf002f-cbf9-4b8c-e49e-f067cf213ec4"
      },
      "outputs": [
        {
          "data": {
            "text/latex": [
              "$\\displaystyle 1$"
            ],
            "text/plain": [
              "1"
            ]
          },
          "execution_count": 7,
          "metadata": {},
          "output_type": "execute_result"
        }
      ],
      "source": [
        "# We get an equation with one unknown, so we can solve it\n",
        "eq2.solve_for(y)[0]"
      ]
    },
    {
      "cell_type": "code",
      "execution_count": null,
      "metadata": {
        "id": "OW8Y9qc_tno4",
        "outputId": "e425e31f-0f4a-42e1-e7e8-505615e40815"
      },
      "outputs": [
        {
          "data": {
            "text/plain": [
              "{x: 2, y: 1}"
            ]
          },
          "execution_count": 8,
          "metadata": {},
          "output_type": "execute_result"
        }
      ],
      "source": [
        "# Thus x=2, y=1\n",
        "# Verify with sympy\n",
        "sp.solve([eq1, eq2])"
      ]
    },
    {
      "cell_type": "markdown",
      "metadata": {
        "id": "wNa1PCQktno4"
      },
      "source": [
        "---\n",
        "\n",
        "### Exercises for Students\n",
        "\n",
        "Solve the following systems of equations similarly to the example above:\n",
        "\n",
        "* $3x-2y=5, \\quad 2x+3y=7$,\n",
        "* $2x-3y=10, \\quad 4x+5y=20$,\n",
        "* $2x - y + z = 3, \\quad x + 2y - z = 1, \\quad 3x - y + 2z = 11$.\n",
        "* $2x-3y+4z+2t=2, \\quad 3x+2y-5z+3t=3, \\quad 4x-3y+2z-5t=4, \\quad 5x+4y-3z+2t=5$."
      ]
    },
    {
      "cell_type": "code",
      "source": [
        "# Define the coefficients of the equations\n",
        "a1, b1, c1 = 3, -2, 5  # 3x - 2y = 5\n",
        "a2, b2, c2 = 2, 3, 7    # 2x + 3y = 7\n",
        "\n",
        "# Multiply the first equation by 3 and the second equation by 2\n",
        "a3 = a1 * 3  # 9x - 6y = 15\n",
        "b3 = b1 * 3  # 9x - 6y = 15\n",
        "c3 = c1 * 3  # 9x - 6y = 15\n",
        "a4 = a2 * 2  # 4x + 6y = 14\n",
        "b4 = b2 * 2  # 4x + 6y = 14\n",
        "c4 = c2 * 2  # 4x + 6y = 14\n",
        "\n",
        "# Now we can add the modified equations\n",
        "# (9x - 6y) + (4x + 6y) = 15 + 14\n",
        "# Which simplifies to 13x = 29\n",
        "x = 29 / 13\n",
        "\n",
        "\n",
        "# Substitute x back into the first equation to solve for y\n",
        "# 3(29/13) - 2y = 5\n",
        "# 87/13 - 2y = 5\n",
        "# 87/13 - 65/13 = 2y\n",
        "# 22/13 = 2y\n",
        "# 11/13 = y\n",
        "# or\n",
        "y = (c1 - a1 * x) / b1\n",
        "\n",
        "# Output the solution\n",
        "print(f\"The solution to the system of equations is: (x, y) = ({x}, {y})\")"
      ],
      "metadata": {
        "id": "-3SMFlSiUnSt",
        "outputId": "bdd8d09e-37d1-431d-af5c-868c1c051395",
        "colab": {
          "base_uri": "https://localhost:8080/"
        }
      },
      "execution_count": 3,
      "outputs": [
        {
          "output_type": "stream",
          "name": "stdout",
          "text": [
            "The solution to the system of equations is: (x, y) = (2.230769230769231, 0.8461538461538463)\n"
          ]
        }
      ]
    },
    {
      "cell_type": "code",
      "source": [
        "# Define the coefficients of the equations\n",
        "a1, b1, c1 = 2, -3, 10  # 2x - 3y = 10\n",
        "a2, b2, c2 = 4, 5, 20    # 4x + 5y = 20\n",
        "\n",
        "# Multiply the first equation by 2\n",
        "a3 = a1 * 2\n",
        "b3 = b1 * 2\n",
        "c3 = c1 * 2  # 4x - 6y = 20\n",
        "\n",
        "# Now we can subtract the second equation from the modified first equation\n",
        "# 4x - 6y - (4x + 5y) = 20 - 20\n",
        "# Which simplifies to -11y = 0\n",
        "y = 0\n",
        "\n",
        "# Substitute y back into the first equation to solve for x\n",
        "x = (c1 + 3 * y) / a1  # 2x = 10, hence x = 5\n",
        "\n",
        "# Output the solution\n",
        "print(f\"The solution to the system of equations is: (x, y) = ({x}, {y})\")"
      ],
      "metadata": {
        "id": "fTruFN-80-sw",
        "outputId": "b10ee08d-9546-423c-dace-2b7e150253dd",
        "colab": {
          "base_uri": "https://localhost:8080/"
        }
      },
      "execution_count": 9,
      "outputs": [
        {
          "output_type": "stream",
          "name": "stdout",
          "text": [
            "The solution to the system of equations is: (x, y) = (5.0, 0)\n"
          ]
        }
      ]
    },
    {
      "cell_type": "code",
      "source": [
        "# Define the coefficients of the equations\n",
        "a1, b1, c1, d1 = 2, -1, 1, 3  # 2x - y + z = 3\n",
        "a2, b2, c2, d2 = 1, 2, -1, 1   # x + 2y - z = 1\n",
        "a3, b3, c3, d3 = 3, -1, 2, 11  # 3x - y + 2z = 11\n",
        "\n",
        "# Eliminate z from equations 1 and 2\n",
        "# (2x - y + z) + (x + 2y - z) = 3 + 1\n",
        "# 3x + y = 4  (Equation 4)\n",
        "\n",
        "# Eliminate z from equations 1 and 3\n",
        "# 2(2x - y + z) + (3x - y + 2z) = 2(3) + 11\n",
        "# (4x -2y +2z) + (3x - y + 2z) = 6+11\n",
        "# 7x -3y + 4z = 17\n",
        "# (wrong result)\n",
        "\n",
        "# Eliminate z from equations 1 and 3\n",
        "# (2x - y + z) *2 + (3x - y + 2z) = 3*2 + 11\n",
        "# (4x - 2y+2z) + (3x - y + 2z) = 6+11\n",
        "# 7x -3y = 17\n",
        "#wrong result\n",
        "\n",
        "\n",
        "# Eliminate z from equations 1 and 3\n",
        "# 2(2x - y + z) - (3x - y + 2z) = 2(3) - 11\n",
        "# (4x - 2y + 2z) - (3x - y + 2z) = 6 - 11\n",
        "# x - y = -5 (Equation 5)\n",
        "\n",
        "# Now we have two equations with two unknowns:\n",
        "# 3x + y = 4 (Equation 4)\n",
        "# x - y = -5 (Equation 5)\n",
        "\n",
        "# Solve for x and y using equations 4 and 5\n",
        "# (3x + y) + (x - y) = 4 + (-5)\n",
        "# 4x = -1\n",
        "# x = -1/4\n",
        "\n",
        "# Substitute x back into Equation 5 to solve for y\n",
        "# (-1/4) - y = -5\n",
        "# -y = -5 + (1/4)\n",
        "# -y = -19/4\n",
        "# y = 19/4\n",
        "\n",
        "# Substitute x and y back into Equation 1 to solve for z\n",
        "# 2(-1/4) - (19/4) + z = 3\n",
        "# -2/4 - 19/4 + z = 3\n",
        "# -21/4 + z = 3\n",
        "# z = 3 + (21/4)\n",
        "# z = 12/4 + 21/4\n",
        "# z = 33/4\n",
        "\n",
        "# Output the solution\n",
        "print(f\"The solution to the system of equations is: (x, y, z) = ({-1/4}, {19/4}, {33/4})\")"
      ],
      "metadata": {
        "id": "7D0StQCrS62D",
        "outputId": "2b6fc312-f80d-4839-cea5-8432f0abd1ad",
        "colab": {
          "base_uri": "https://localhost:8080/"
        }
      },
      "execution_count": 2,
      "outputs": [
        {
          "output_type": "stream",
          "name": "stdout",
          "text": [
            "The solution to the system of equations is: (x, y, z) = (-0.25, 4.75, 8.25)\n"
          ]
        }
      ]
    },
    {
      "cell_type": "code",
      "source": [
        "# Define the coefficients of the equations\n",
        "a1, b1, c1, d1, e1 = 2, -3, 4, 2, 2  # 2x - 3y + 4z + 2t = 2\n",
        "a2, b2, c2, d2, e2 = 3, 2, -5, 3, 3  # 3x + 2y - 5z + 3t = 3\n",
        "a3, b3, c3, d3, e3 = 4, -3, 2, -5, 4  # 4x - 3y + 2z - 5t = 4\n",
        "a4, b4, c4, d4, e4 = 5, 4, -3, 2, 5  # 5x + 4y - 3z + 2t = 5\n",
        "\n",
        "# This system of equations is complex to solve manually using the elimination method.\n",
        "# It's recommended to use sympy for solving such systems.\n",
        "\n",
        "import sympy as sp\n",
        "\n",
        "# Define symbols\n",
        "x, y, z, t = sp.symbols('x y z t')\n",
        "\n",
        "# Define equations\n",
        "eq1 = sp.Eq(2*x - 3*y + 4*z + 2*t, 2)\n",
        "eq2 = sp.Eq(3*x + 2*y - 5*z + 3*t, 3)\n",
        "eq3 = sp.Eq(4*x - 3*y + 2*z - 5*t, 4)\n",
        "eq4 = sp.Eq(5*x + 4*y - 3*z + 2*t, 5)\n",
        "\n",
        "# Solve the system of equations\n",
        "solution = sp.solve((eq1, eq2, eq3, eq4), (x, y, z, t))\n",
        "\n",
        "# Print the solution\n",
        "print(solution)"
      ],
      "metadata": {
        "id": "c1ejSoH9VWCA",
        "outputId": "10b2e2a3-4cdb-4c34-e620-cab71c4095d8",
        "colab": {
          "base_uri": "https://localhost:8080/"
        }
      },
      "execution_count": 4,
      "outputs": [
        {
          "output_type": "stream",
          "name": "stdout",
          "text": [
            "{t: 0, x: 1, y: 0, z: 0}\n"
          ]
        }
      ]
    }
  ],
  "metadata": {
    "kernelspec": {
      "display_name": "Python 3",
      "language": "python",
      "name": "python3"
    },
    "language_info": {
      "codemirror_mode": {
        "name": "ipython",
        "version": 3
      },
      "file_extension": ".py",
      "mimetype": "text/x-python",
      "name": "python",
      "nbconvert_exporter": "python",
      "pygments_lexer": "ipython3",
      "version": "3.11.9"
    },
    "colab": {
      "provenance": [],
      "include_colab_link": true
    }
  },
  "nbformat": 4,
  "nbformat_minor": 0
}